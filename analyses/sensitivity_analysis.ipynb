{
 "cells": [
  {
   "attachments": {},
   "cell_type": "markdown",
   "metadata": {},
   "source": [
    "### Tasks to do after conversation with Adam\n",
    "\n",
    "**Robustness to noise**\n",
    "\n",
    "Express noise as % instead of absolute change. Typically tested 1%, 10%, 100%, or 1%, 2%, 4%, 8%... In many papers, only 10% noise shown, but this is an arbitrary decision.\n",
    "Determine whether the output is qualitatively the same as without noise\n",
    "\n",
    "**Sensitivity to parameters**\n",
    "\n",
    "We did not discuss much about this, but I undersand that parameters are selected, different values are tested, and the output is measured\n",
    "\n",
    "**Variability of curves**\n",
    "\n",
    "Extract features from auxin profile: position of auxin min (sinus) and max (peak), amplitude of auxin peak (max - min), width. scypy.signal has functions to do this.\n",
    "Most relevant for robustness to noise (and sesitivity to params?): position of features\n",
    "\n",
    "Leafi: We could do analysis of covariance. Leafi accepts csv files with arrays of x,y points. It can also calculate CI to know when enough replicates done.\n"
   ]
  },
  {
   "cell_type": "code",
   "execution_count": 12,
   "metadata": {},
   "outputs": [],
   "source": [
    "import pandas as pd\n",
    "import scipy\n",
    "\n",
    "data_single_raw_s1 = pd.read_csv(path_single + 'auxin_profile_1.csv')"
   ]
  }
 ],
 "metadata": {
  "kernelspec": {
   "display_name": "Python 3",
   "language": "python",
   "name": "python3"
  },
  "language_info": {
   "codemirror_mode": {
    "name": "ipython",
    "version": 3
   },
   "file_extension": ".py",
   "mimetype": "text/x-python",
   "name": "python",
   "nbconvert_exporter": "python",
   "pygments_lexer": "ipython3",
   "version": "3.8.2"
  },
  "orig_nbformat": 4,
  "vscode": {
   "interpreter": {
    "hash": "916dbcbb3f70747c44a77c7bcd40155683ae19c65e1c03b4aa3499c5328201f1"
   }
  }
 },
 "nbformat": 4,
 "nbformat_minor": 2
}
